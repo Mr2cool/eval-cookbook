{
    "cells": [
        {
            "cell_type": "code",
            "execution_count": 1,
            "metadata": {},
            "outputs": [],
            "source": [
                "%pip install llama-index-agent-openai\n",
                "%pip install llama-index-llms-openai\n",
                "!pip install \"tracing-auto-instrumentation[llama-index]\" --upgrade"
            ]
        },
        {
            "cell_type": "code",
            "execution_count": 2,
            "metadata": {},
            "outputs": [],
            "source": [
                "import llama_index.core\n",
                "\n",
                "from tracing_auto_instrumentation.llama_index import LlamaIndexCallbackHandler\n",
                "llama_index.core.global_handler = LlamaIndexCallbackHandler(\n",
                "    project_name=\"Function call demo\",\n",
                ")"
            ]
        },
        {
            "cell_type": "code",
            "execution_count": 3,
            "metadata": {},
            "outputs": [
                {
                    "name": "stdout",
                    "output_type": "stream",
                    "text": [
                        "OpenAI API key configured\n"
                    ]
                }
            ],
            "source": [
                "from llama_index.agent.openai import OpenAIAgent\n",
                "from llama_index.llms.openai import OpenAI\n",
                "from llama_index.core.tools import FunctionTool\n",
                "\n",
                "import os\n",
                "import dotenv\n",
                "from getpass import getpass\n",
                "\n",
                "dotenv.load_dotenv()\n",
                "if os.getenv(\"OPENAI_API_KEY\") is None:\n",
                "    os.environ[\"OPENAI_API_KEY\"] = getpass(\n",
                "        \"Paste your OpenAI key from:\"\n",
                "        \" https://platform.openai.com/account/api-keys\\n\"\n",
                "    )\n",
                "assert os.getenv(\"OPENAI_API_KEY\", \"\").startswith(\n",
                "    \"sk-\"\n",
                "), \"This doesn't look like a valid OpenAI API key\"\n",
                "print(\"OpenAI API key configured\")"
            ]
        },
        {
            "cell_type": "code",
            "execution_count": 4,
            "metadata": {},
            "outputs": [],
            "source": [
                "def multiply(a: int, b: int) -> int:\n",
                "    \"\"\"Multiple two integers and returns the result integer\"\"\"\n",
                "    return a * b\n",
                "\n",
                "\n",
                "multiply_tool = FunctionTool.from_defaults(fn=multiply)\n",
                "\n",
                "def add(a: int, b: int) -> int:\n",
                "    \"\"\"Add two integers and returns the result integer\"\"\"\n",
                "    return a + b\n",
                "\n",
                "\n",
                "add_tool = FunctionTool.from_defaults(fn=add)\n",
                "\n",
                "llm = OpenAI(model=\"gpt-3.5-turbo-1106\")\n",
                "agent = OpenAIAgent.from_tools(\n",
                "    [multiply_tool, add_tool], llm=llm, verbose=True\n",
                ")"
            ]
        },
        {
            "cell_type": "code",
            "execution_count": 5,
            "metadata": {},
            "outputs": [
                {
                    "name": "stdout",
                    "output_type": "stream",
                    "text": [
                        "Added user message to memory: What is (121 * 3) + 42?\n"
                    ]
                },
                {
                    "name": "stdout",
                    "output_type": "stream",
                    "text": [
                        "=== Calling Function ===\n",
                        "Calling function: multiply with args: {\"a\": 121, \"b\": 3}\n",
                        "Got output: 363\n",
                        "========================\n",
                        "\n",
                        "=== Calling Function ===\n",
                        "Calling function: add with args: {\"a\": 363, \"b\": 42}\n",
                        "Got output: 405\n",
                        "========================\n",
                        "\n"
                    ]
                },
                {
                    "name": "stdout",
                    "output_type": "stream",
                    "text": [
                        "The result of (121 * 3) is 363, and when you add 42 to it, you get 405.\n"
                    ]
                }
            ],
            "source": [
                "# Note: if you have a APIConnectionError and are on a Mac Silicon device,\n",
                "# you may need to run the following command in your terminal:\n",
                "# bash /Applications/Python*/Install\\ Certificates.command\n",
                "\n",
                "# After running the command above, please restart this notebook and try again\n",
                "\n",
                "response = agent.chat(\"What is (121 * 3) + 42?\")\n",
                "print(str(response))"
            ]
        }
    ],
    "metadata": {
        "kernelspec": {
            "display_name": "Python 3",
            "language": "python",
            "name": "python3"
        },
        "language_info": {
            "codemirror_mode": {
                "name": "ipython",
                "version": 3
            },
            "file_extension": ".py",
            "mimetype": "text/x-python",
            "name": "python",
            "nbconvert_exporter": "python",
            "pygments_lexer": "ipython3",
            "version": "3.12.3"
        }
    },
    "nbformat": 4,
    "nbformat_minor": 2
}